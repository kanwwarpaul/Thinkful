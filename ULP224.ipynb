{
 "cells": [
  {
   "cell_type": "code",
   "execution_count": 62,
   "metadata": {},
   "outputs": [
    {
     "data": {
      "image/png": "[encoded data removed]",
      "text/plain": [
       "<matplotlib.figure.Figure at 0x1f08e6515f8>"
      ]
     },
     "metadata": {},
     "output_type": "display_data"
    },
    {
     "name": "stdout",
     "output_type": "stream",
     "text": [
      "               REF  Review\\nDate       Rating\n",
      "count  1795.000000   1795.000000  1795.000000\n",
      "mean   1035.904735   2012.325348     3.185933\n",
      "std     552.886365      2.927210     0.478062\n",
      "min       5.000000   2006.000000     1.000000\n",
      "25%     576.000000   2010.000000     2.875000\n",
      "50%    1069.000000   2013.000000     3.250000\n",
      "75%    1502.000000   2015.000000     3.500000\n",
      "max    1952.000000   2017.000000     5.000000\n",
      "Index(['Specific Bean Origin\\nor Bar Name', 'REF', 'Review\\nDate',\n",
      "       'Cocoa\\nPercent', 'Company\\nLocation', 'Rating', 'Bean\\nType',\n",
      "       'Broad Bean\\nOrigin'],\n",
      "      dtype='object')\n"
     ]
    },
    {
     "data": {
      "image/png": "[encoded data removed]",
      "text/plain": [
       "<matplotlib.figure.Figure at 0x1f08e57d6a0>"
      ]
     },
     "metadata": {},
     "output_type": "display_data"
    },
    {
     "data": {
      "image/png": "[encoded data removed]",
      "text/plain": [
       "<matplotlib.figure.Figure at 0x1f08e5718d0>"
      ]
     },
     "metadata": {},
     "output_type": "display_data"
    }
   ],
   "source": [
    "import numpy as np\n",
    "import pandas as pd\n",
    "import matplotlib.pyplot as plt\n",
    "%matplotlib inline\n",
    "\n",
    "choco = pd.read_csv(\"flavors_of_cacao.csv\",index_col = 0)\n",
    "#choco.head()\n",
    "plt.boxplot(choco[\"Rating\"])\n",
    "plt.show()\n",
    "print(choco.describe())\n",
    "\n",
    "# there are 4 outliers in ratings. one exceptionally high and others way below \n",
    "# average. omitting these values will redistribute the mean, mode and median.\n",
    "# If we have to find the best rating for eating and giving reviews then we already \n",
    "# have obtained it. after implementing choco.describe() the summary was known.\n",
    "\n",
    "\n",
    "print(choco.columns)\n",
    "\n",
    "\n",
    "# I want to see the trend between cocoa percent and rating but the error \n",
    "# is showing , so will leave for time being.Because the percent sign is causing \n",
    "# trouble\n",
    "\n",
    "# plt.scatter(x=choco[\"Cocoa\\nPercent\"] , y=choco[\"Rating\"])\n",
    "# plt.show()\n",
    "\n",
    "\n",
    "plt.figure(figsize=(10,5))\n",
    "plt.subplot(1,2,1)\n",
    "plt.hist(choco[\"Rating\"])\n",
    "plt.title(\"RATING\")\n",
    "plt.show()\n",
    "\n",
    "plt.figure(figsize=(10,5))\n",
    "plt.subplot(1,2,2)\n",
    "plt.hist(choco[\"Review\\nDate\"])\n",
    "plt.xlabel(\"Year\")\n",
    "plt.title(\"YEAR\")\n",
    "plt.show()\n",
    "\n",
    "\n"
   ]
  },
  {
   "cell_type": "code",
   "execution_count": null,
   "metadata": {
    "collapsed": true
   },
   "outputs": [],
   "source": []
  }
 ],
 "metadata": {
  "kernelspec": {
   "display_name": "Python 3",
   "language": "python",
   "name": "python3"
  },
  "language_info": {
   "codemirror_mode": {
    "name": "ipython",
    "version": 3
   },
   "file_extension": ".py",
   "mimetype": "text/x-python",
   "name": "python",
   "nbconvert_exporter": "python",
   "pygments_lexer": "ipython3",
   "version": "3.6.1"
  }
 },
 "nbformat": 4,
 "nbformat_minor": 2
}
