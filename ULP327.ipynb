{
 "cells": [
  {
   "cell_type": "code",
   "execution_count": 28,
   "metadata": {},
   "outputs": [
    {
     "name": "stdout",
     "output_type": "stream",
     "text": [
      "Number of students are :175\n",
      "(175, 12)\n"
     ]
    }
   ],
   "source": [
    "import pandas as pd\n",
    "import numpy as np\n",
    "from scipy.stats import ttest_ind\n",
    "import xml.etree.ElementTree as ET\n",
    "import matplotlib.pyplot as plt\n",
    "%matplotlib inline\n",
    "\n",
    "#1\n",
    "#Christmas time (or winter break) will lead to a skewness in the data.\n",
    "#Vacation time is generally unfit for the data analysis for the complete picture.\n",
    "\n",
    "#2 \n",
    "# Post 9/11 can produce a significant difference between these two cities.\n",
    "\n",
    "#3\n",
    "\n",
    "df = pd.read_csv(\"armenian_pubs.csv\",index_col=0)\n",
    "df.head()\n",
    "df1 = df[df.columns[3]]\n",
    "print(\"Number of students are :\" + str(df1.count()))\n",
    "print(df.shape)\n",
    "# so all the guys are students only (Including working)\n"
   ]
  }
 ],
 "metadata": {
  "kernelspec": {
   "display_name": "Python 3",
   "language": "python",
   "name": "python3"
  },
  "language_info": {
   "codemirror_mode": {
    "name": "ipython",
    "version": 3
   },
   "file_extension": ".py",
   "mimetype": "text/x-python",
   "name": "python",
   "nbconvert_exporter": "python",
   "pygments_lexer": "ipython3",
   "version": "3.6.1"
  }
 },
 "nbformat": 4,
 "nbformat_minor": 2
}
