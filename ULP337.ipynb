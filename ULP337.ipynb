{
 "cells": [
  {
   "cell_type": "code",
   "execution_count": 1,
   "metadata": {},
   "outputs": [
    {
     "name": "stdout",
     "output_type": "stream",
     "text": [
      "Mean of pop1 is: 1.9885\n",
      "Mean of pop2 is: 5.0046\n",
      "Standard Deviation of pop1 is: 1.28022175813\n",
      "Standard Deviation of pop2 is: 1.566581897\n",
      "Mean of Sample1 is: 2.07\n",
      "Mean of Sample2 is: 5.13\n",
      "Standard Deviation of Sample1 is: 1.2186467905\n",
      "Standard Deviation of Sample2 is: 1.75872112627\n",
      "Mean of Sample3 is: 1.937\n",
      "Mean of Sample4 is: 4.999\n",
      "Standard Deviation of Sample3 is: 1.27633498738\n",
      "Standard Deviation of Sample4 is: 1.57257718412\n",
      "Mean of Sample5 is: 2.65\n",
      "Mean of Sample6 is: 5.1\n",
      "Standard Deviation of Sample5 is: 0.909670269933\n",
      "Standard Deviation of Sample6 is: 1.47986485869\n",
      "Ttest_indResult(statistic=-8.6714284806929243, pvalue=1.7091754712401658e-15)\n",
      "Ttest_indResult(statistic=-5.6677809597049764, pvalue=5.1398403007904486e-08)\n"
     ]
    }
   ],
   "source": [
    "import pandas as pd\n",
    "import numpy as np\n",
    "from scipy.stats import ttest_ind\n",
    "import xml.etree.ElementTree as ET\n",
    "import matplotlib.pyplot as plt\n",
    "%matplotlib inline\n",
    "\n",
    "np.random.seed(1221)\n",
    "\n",
    "pop1 = np.random.binomial(10,0.2,10000)\n",
    "pop2 = np.random.binomial(10,0.5,10000)\n",
    "\n",
    "print(\"Mean of pop1 is: \" + str(pop1.mean()))\n",
    "print(\"Mean of pop2 is: \" + str(pop2.mean()))\n",
    "print(\"Standard Deviation of pop1 is: \" + str(pop1.std()))\n",
    "print(\"Standard Deviation of pop2 is: \" + str(pop2.std()))\n",
    "\n",
    "\n",
    "sample1 = np.random.choice(pop1,100)\n",
    "sample2 = np.random.choice(pop2,100)\n",
    "\n",
    "print(\"Mean of Sample1 is: \" + str(sample1.mean()))\n",
    "print(\"Mean of Sample2 is: \" + str(sample2.mean()))\n",
    "print(\"Standard Deviation of Sample1 is: \" + str(sample1.std()))\n",
    "print(\"Standard Deviation of Sample2 is: \" + str(sample2.std()))\n",
    "\n",
    "# the mean and std of the sample(1000) will approx. match the population mean \n",
    "# and std (1000) and thus the results will be almost simliar.\n",
    "# But it also depends whether the chosen samples are replacebale or not\n",
    "\n",
    "sample3 = np.random.choice(pop1,1000)\n",
    "sample4 = np.random.choice(pop2,1000)\n",
    "print(\"Mean of Sample3 is: \" + str(sample3.mean()))\n",
    "print(\"Mean of Sample4 is: \" + str(sample4.mean()))\n",
    "print(\"Standard Deviation of Sample3 is: \" + str(sample3.std()))\n",
    "print(\"Standard Deviation of Sample4 is: \" + str(sample4.std()))\n",
    "\n",
    "sample5 = np.random.choice(pop1,20)\n",
    "sample6 = np.random.choice(pop2,20)\n",
    "print(\"Mean of Sample5 is: \" + str(sample5.mean()))\n",
    "print(\"Mean of Sample6 is: \" + str(sample6.mean()))\n",
    "print(\"Standard Deviation of Sample5 is: \" + str(sample5.std()))\n",
    "print(\"Standard Deviation of Sample6 is: \" + str(sample6.std()))\n",
    "\n",
    "pop1_new = np.random.binomial(10,0.3,10000)\n",
    "sample7 = np.random.choice(pop1_new,100)\n",
    "sample8 = np.random.choice(pop2,100)\n",
    "result1 = ttest_ind(sample7,sample8,equal_var= False)\n",
    "print(result1)\n",
    "\n",
    "pop1_new_new = np.random.binomial(10,0.4,10000)\n",
    "sample9 = np.random.choice(pop1_new_new,100)\n",
    "sample10 = np.random.choice(pop2,100)\n",
    "result2 = ttest_ind(sample9,sample10,equal_var= False)\n",
    "print(result2)\n"
   ]
  }
 ],
 "metadata": {
  "kernelspec": {
   "display_name": "Python 3",
   "language": "python",
   "name": "python3"
  },
  "language_info": {
   "codemirror_mode": {
    "name": "ipython",
    "version": 3
   },
   "file_extension": ".py",
   "mimetype": "text/x-python",
   "name": "python",
   "nbconvert_exporter": "python",
   "pygments_lexer": "ipython3",
   "version": "3.6.1"
  }
 },
 "nbformat": 4,
 "nbformat_minor": 2
}
