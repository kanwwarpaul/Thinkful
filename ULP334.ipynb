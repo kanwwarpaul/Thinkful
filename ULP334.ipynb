{
 "cells": [
  {
   "cell_type": "code",
   "execution_count": 3,
   "metadata": {},
   "outputs": [
    {
     "data": {
      "image/png": "[encoded data removed]",
      "text/plain": [
       "<matplotlib.figure.Figure at 0x143f7da9390>"
      ]
     },
     "metadata": {},
     "output_type": "display_data"
    },
    {
     "name": "stdout",
     "output_type": "stream",
     "text": [
      "mean of the distribution is: 5.05440097106\n",
      "standard deviation of the distribution is: 0.537425398044\n"
     ]
    },
    {
     "data": {
      "image/png": "[encoded data removed]",
      "text/plain": [
       "<matplotlib.figure.Figure at 0x143f7ebe128>"
      ]
     },
     "metadata": {},
     "output_type": "display_data"
    },
    {
     "name": "stdout",
     "output_type": "stream",
     "text": [
      "mean of the combined distribution is: 14.9767020973\n",
      "standard deviation of the combined distribution is: 1.12973467438\n"
     ]
    }
   ],
   "source": [
    "import pandas as pd\n",
    "import numpy as np\n",
    "from scipy.stats import ttest_ind\n",
    "import xml.etree.ElementTree as ET\n",
    "import matplotlib.pyplot as plt\n",
    "%matplotlib inline\n",
    "\n",
    "np.random.seed(1221)\n",
    "normal = np.random.normal(5,0.5,100)\n",
    "plt.hist(normal)\n",
    "plt.axvline(normal.mean(),linestyle=\"solid\",color=\"black\")\n",
    "plt.axvline(normal.mean()+normal.std() , linestyle=\"dotted\",color=\"red\")\n",
    "plt.axvline(normal.mean()-normal.std() , linestyle=\"dotted\",color=\"red\")\n",
    "plt.show()\n",
    "print(\"mean of the distribution is: \" + str(normal.mean()))\n",
    "print(\"standard deviation of the distribution is: \" + str(normal.std()))\n",
    "\n",
    "\n",
    "normal1 = np.random.normal(5,0.5,100)\n",
    "normal2 = np.random.normal(10,1,100)\n",
    "normal3 = normal1 + normal2\n",
    "plt.hist(normal3)\n",
    "plt.axvline(normal3.mean(),linestyle=\"solid\",color =\"black\")\n",
    "plt.axvline(normal3.mean()+normal3.std(),linestyle=\"dotted\",color =\"red\")\n",
    "plt.axvline(normal3.mean()-normal3.std(),linestyle=\"dotted\",color =\"red\")\n",
    "plt.show()\n",
    "print(\"mean of the combined distribution is: \" + str(normal3.mean()))\n",
    "print(\"standard deviation of the combined distribution is: \" + str(normal3.std()))\n"
   ]
  }
 ],
 "metadata": {
  "kernelspec": {
   "display_name": "Python 3",
   "language": "python",
   "name": "python3"
  },
  "language_info": {
   "codemirror_mode": {
    "name": "ipython",
    "version": 3
   },
   "file_extension": ".py",
   "mimetype": "text/x-python",
   "name": "python",
   "nbconvert_exporter": "python",
   "pygments_lexer": "ipython3",
   "version": "3.6.1"
  }
 },
 "nbformat": 4,
 "nbformat_minor": 2
}
