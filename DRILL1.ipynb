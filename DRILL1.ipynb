{
 "cells": [
  {
   "cell_type": "code",
   "execution_count": 210,
   "metadata": {},
   "outputs": [
    {
     "name": "stdout",
     "output_type": "stream",
     "text": [
      "mean of the distribution is: 15.004636557\n",
      "standard deviation of the distribution is: 1.05339096385\n"
     ]
    },
    {
     "data": {
      "image/png": "[encoded data removed]",
      "text/plain": [
       "<matplotlib.figure.Figure at 0x1d43a022438>"
      ]
     },
     "metadata": {},
     "output_type": "display_data"
    }
   ],
   "source": [
    "#hello this is my commit\n",
    "import pandas as pd\n",
    "import numpy as np\n",
    "from scipy.stats import ttest_ind\n",
    "import xml.etree.ElementTree as ET\n",
    "import matplotlib.pyplot as plt\n",
    "%matplotlib inline\n",
    "\n",
    "np.random.seed(1221)\n",
    "normal1 = np.random.normal(5,0.5,100)\n",
    "#plt.hist(normal,color = \"red\")\n",
    "\n",
    "#plt.show()\n",
    "normal2 = np.random.normal(10,1,100)\n",
    "normal = normal1 + normal2\n",
    "plt.hist(normal)\n",
    "plt.axvline(normal.mean(),linestyle=\"solid\",color =\"black\")\n",
    "plt.axvline(normal.mean()+normal.std(),linestyle=\"dotted\",color =\"black\")\n",
    "plt.axvline(normal.mean()-normal.std(),linestyle=\"dotted\",color =\"black\")\n",
    "mean = normal.mean()\n",
    "std = normal.std()\n",
    "print(\"mean of the distribution is: \" + str(mean))\n",
    "print(\"standard deviation of the distribution is: \" + str(std))\n",
    "plt.show()\n",
    "\n",
    "# with 100:\n",
    "# "
   ]
  },
  {
   "cell_type": "code",
   "execution_count": 222,
   "metadata": {},
   "outputs": [
    {
     "name": "stdout",
     "output_type": "stream",
     "text": [
      "Ttest_indResult(statistic=14.229565636476298, pvalue=4.3308508859257998e-31)\n"
     ]
    }
   ],
   "source": [
    "import pandas as pd\n",
    "import numpy as np\n",
    "from scipy.stats import ttest_ind\n",
    "import xml.etree.ElementTree as ET\n",
    "import matplotlib.pyplot as plt\n",
    "%matplotlib inline\n",
    "\n",
    "np.random.seed(1221)\n",
    "pop1 = np.random.binomial(10,0.2,10000)\n",
    "pop2 = np.random.binomial(10,0.5,10000)\n",
    "sample1 = np.random.choice(pop1,100)\n",
    "sample2 = np.random.choice(pop2,100)\n",
    "result = ttest_ind(sample2,sample1,equal_var= False)\n",
    "print(result)"
   ]
  }
 ],
 "metadata": {
  "kernelspec": {
   "display_name": "Python 3",
   "language": "python",
   "name": "python3"
  },
  "language_info": {
   "codemirror_mode": {
    "name": "ipython",
    "version": 3
   },
   "file_extension": ".py",
   "mimetype": "text/x-python",
   "name": "python",
   "nbconvert_exporter": "python",
   "pygments_lexer": "ipython3",
   "version": "3.6.1"
  }
 },
 "nbformat": 4,
 "nbformat_minor": 2
}
