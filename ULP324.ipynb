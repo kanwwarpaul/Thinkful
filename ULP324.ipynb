{
 "cells": [
  {
   "cell_type": "code",
   "execution_count": null,
   "metadata": {
    "collapsed": true
   },
   "outputs": [],
   "source": [
    "# all would be same as:\n",
    "# 1/2 * 1/2 * 1/2 *1/2 = 1/16\n",
    "\n",
    "# 1-(21/45) = 24/45\n",
    "\n",
    "# 10% * 0.005% \n",
    "\n",
    "#4:\n",
    "# AGE   TIME SPENT ON EACH BROWSING    PURPOSE OF VISITING ETC\n",
    "\n"
   ]
  }
 ],
 "metadata": {
  "kernelspec": {
   "display_name": "Python 3",
   "language": "python",
   "name": "python3"
  },
  "language_info": {
   "codemirror_mode": {
    "name": "ipython",
    "version": 3
   },
   "file_extension": ".py",
   "mimetype": "text/x-python",
   "name": "python",
   "nbconvert_exporter": "python",
   "pygments_lexer": "ipython3",
   "version": "3.6.1"
  }
 },
 "nbformat": 4,
 "nbformat_minor": 2
}
