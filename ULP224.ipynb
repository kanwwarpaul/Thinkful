{
 "cells": [
  {
   "cell_type": "markdown",
   "metadata": {},
   "source": [
    "#### This analysis uses a dataset that was acquired from .... This dataset contains ratings for different cacao beans containing the following fields:\n",
    "#### Bean Name: The name of the cacao bean which ...\n",
    "#### Rating etc. [fill this in later]"
   ]
  },
  {
   "cell_type": "code",
<<<<<<< HEAD
   "execution_count": 2,
   "metadata": {
    "collapsed": true
   },
   "outputs": [],
   "source": [
    "import numpy as np\n",
    "import pandas as pd\n",
    "import matplotlib.pyplot as plt\n",
    "%matplotlib inline\n"
   ]
  },
  {
   "cell_type": "code",
   "execution_count": 4,
   "metadata": {},
   "outputs": [
    {
     "data": {
      "text/html": [
       "<div>\n",
       "<style>\n",
       "    .dataframe thead tr:only-child th {\n",
       "        text-align: right;\n",
       "    }\n",
       "\n",
       "    .dataframe thead th {\n",
       "        text-align: left;\n",
       "    }\n",
       "\n",
       "    .dataframe tbody tr th {\n",
       "        vertical-align: top;\n",
       "    }\n",
       "</style>\n",
       "<table border=\"1\" class=\"dataframe\">\n",
       "  <thead>\n",
       "    <tr style=\"text-align: right;\">\n",
       "      <th></th>\n",
       "      <th>Company \n",
       "(Maker-if known)</th>\n",
       "      <th>Specific Bean Origin\n",
       "or Bar Name</th>\n",
       "      <th>REF</th>\n",
       "      <th>Review\n",
       "Date</th>\n",
       "      <th>Cocoa\n",
       "Percent</th>\n",
       "      <th>Company\n",
       "Location</th>\n",
       "      <th>Rating</th>\n",
       "      <th>Bean\n",
       "Type</th>\n",
       "      <th>Broad Bean\n",
       "Origin</th>\n",
       "    </tr>\n",
       "  </thead>\n",
       "  <tbody>\n",
       "    <tr>\n",
       "      <th>0</th>\n",
       "      <td>A. Morin</td>\n",
       "      <td>Agua Grande</td>\n",
       "      <td>1876</td>\n",
       "      <td>2016</td>\n",
       "      <td>63%</td>\n",
       "      <td>France</td>\n",
       "      <td>3.75</td>\n",
       "      <td></td>\n",
       "      <td>Sao Tome</td>\n",
       "    </tr>\n",
       "    <tr>\n",
       "      <th>1</th>\n",
       "      <td>A. Morin</td>\n",
       "      <td>Kpime</td>\n",
       "      <td>1676</td>\n",
       "      <td>2015</td>\n",
       "      <td>70%</td>\n",
       "      <td>France</td>\n",
       "      <td>2.75</td>\n",
       "      <td></td>\n",
       "      <td>Togo</td>\n",
       "    </tr>\n",
       "    <tr>\n",
       "      <th>2</th>\n",
       "      <td>A. Morin</td>\n",
       "      <td>Atsane</td>\n",
       "      <td>1676</td>\n",
       "      <td>2015</td>\n",
       "      <td>70%</td>\n",
       "      <td>France</td>\n",
       "      <td>3.00</td>\n",
       "      <td></td>\n",
       "      <td>Togo</td>\n",
       "    </tr>\n",
       "    <tr>\n",
       "      <th>3</th>\n",
       "      <td>A. Morin</td>\n",
       "      <td>Akata</td>\n",
       "      <td>1680</td>\n",
       "      <td>2015</td>\n",
       "      <td>70%</td>\n",
       "      <td>France</td>\n",
       "      <td>3.50</td>\n",
       "      <td></td>\n",
       "      <td>Togo</td>\n",
       "    </tr>\n",
       "    <tr>\n",
       "      <th>4</th>\n",
       "      <td>A. Morin</td>\n",
       "      <td>Quilla</td>\n",
       "      <td>1704</td>\n",
       "      <td>2015</td>\n",
       "      <td>70%</td>\n",
       "      <td>France</td>\n",
       "      <td>3.50</td>\n",
       "      <td></td>\n",
       "      <td>Peru</td>\n",
       "    </tr>\n",
       "  </tbody>\n",
       "</table>\n",
       "</div>"
      ],
      "text/plain": [
       "  Company \\n(Maker-if known) Specific Bean Origin\\nor Bar Name   REF  \\\n",
       "0                   A. Morin                       Agua Grande  1876   \n",
       "1                   A. Morin                             Kpime  1676   \n",
       "2                   A. Morin                            Atsane  1676   \n",
       "3                   A. Morin                             Akata  1680   \n",
       "4                   A. Morin                            Quilla  1704   \n",
       "\n",
       "   Review\\nDate Cocoa\\nPercent Company\\nLocation  Rating Bean\\nType  \\\n",
       "0          2016            63%            France    3.75              \n",
       "1          2015            70%            France    2.75              \n",
       "2          2015            70%            France    3.00              \n",
       "3          2015            70%            France    3.50              \n",
       "4          2015            70%            France    3.50              \n",
       "\n",
       "  Broad Bean\\nOrigin  \n",
       "0           Sao Tome  \n",
       "1               Togo  \n",
       "2               Togo  \n",
       "3               Togo  \n",
       "4               Peru  "
      ]
     },
     "execution_count": 4,
     "metadata": {},
     "output_type": "execute_result"
    }
   ],
   "source": [
    "choco = pd.read_csv(\"flavors_of_cacao.csv\")\n",
    "choco.head()"
   ]
  },
  {
   "cell_type": "code",
   "execution_count": 6,
=======
   "execution_count": 1,
>>>>>>> a924d897572cf9689df1170aed82149344bd218b
   "metadata": {},
   "outputs": [
    {
     "data": {
      "text/html": [
       "<div>\n",
       "<style>\n",
       "    .dataframe thead tr:only-child th {\n",
       "        text-align: right;\n",
       "    }\n",
       "\n",
       "    .dataframe thead th {\n",
       "        text-align: left;\n",
       "    }\n",
       "\n",
       "    .dataframe tbody tr th {\n",
       "        vertical-align: top;\n",
       "    }\n",
       "</style>\n",
       "<table border=\"1\" class=\"dataframe\">\n",
       "  <thead>\n",
       "    <tr style=\"text-align: right;\">\n",
       "      <th></th>\n",
       "      <th>Specific Bean Origin\n",
       "or Bar Name</th>\n",
       "      <th>REF</th>\n",
       "      <th>Review\n",
       "Date</th>\n",
       "      <th>Cocoa\n",
       "Percent</th>\n",
       "      <th>Company\n",
       "Location</th>\n",
       "      <th>Rating</th>\n",
       "      <th>Bean\n",
       "Type</th>\n",
       "      <th>Broad Bean\n",
       "Origin</th>\n",
       "    </tr>\n",
       "    <tr>\n",
       "      <th>Company \n",
       "(Maker-if known)</th>\n",
       "      <th></th>\n",
       "      <th></th>\n",
       "      <th></th>\n",
       "      <th></th>\n",
       "      <th></th>\n",
       "      <th></th>\n",
       "      <th></th>\n",
       "      <th></th>\n",
       "    </tr>\n",
       "  </thead>\n",
       "  <tbody>\n",
       "    <tr>\n",
       "      <th>A. Morin</th>\n",
       "      <td>Agua Grande</td>\n",
       "      <td>1876</td>\n",
       "      <td>2016</td>\n",
       "      <td>63%</td>\n",
       "      <td>France</td>\n",
       "      <td>3.75</td>\n",
       "      <td></td>\n",
       "      <td>Sao Tome</td>\n",
       "    </tr>\n",
       "    <tr>\n",
       "      <th>A. Morin</th>\n",
       "      <td>Kpime</td>\n",
       "      <td>1676</td>\n",
       "      <td>2015</td>\n",
       "      <td>70%</td>\n",
       "      <td>France</td>\n",
       "      <td>2.75</td>\n",
       "      <td></td>\n",
       "      <td>Togo</td>\n",
       "    </tr>\n",
       "    <tr>\n",
       "      <th>A. Morin</th>\n",
       "      <td>Atsane</td>\n",
       "      <td>1676</td>\n",
       "      <td>2015</td>\n",
       "      <td>70%</td>\n",
       "      <td>France</td>\n",
       "      <td>3.00</td>\n",
       "      <td></td>\n",
       "      <td>Togo</td>\n",
       "    </tr>\n",
       "    <tr>\n",
       "      <th>A. Morin</th>\n",
       "      <td>Akata</td>\n",
       "      <td>1680</td>\n",
       "      <td>2015</td>\n",
       "      <td>70%</td>\n",
       "      <td>France</td>\n",
       "      <td>3.50</td>\n",
       "      <td></td>\n",
       "      <td>Togo</td>\n",
       "    </tr>\n",
       "    <tr>\n",
       "      <th>A. Morin</th>\n",
       "      <td>Quilla</td>\n",
       "      <td>1704</td>\n",
       "      <td>2015</td>\n",
       "      <td>70%</td>\n",
       "      <td>France</td>\n",
       "      <td>3.50</td>\n",
       "      <td></td>\n",
       "      <td>Peru</td>\n",
       "    </tr>\n",
       "  </tbody>\n",
       "</table>\n",
       "</div>"
      ],
      "text/plain": [
<<<<<<< HEAD
       "<matplotlib.figure.Figure at 0x2b601f25c18>"
=======
       "                           Specific Bean Origin\\nor Bar Name   REF  \\\n",
       "Company \\n(Maker-if known)                                           \n",
       "A. Morin                                         Agua Grande  1876   \n",
       "A. Morin                                               Kpime  1676   \n",
       "A. Morin                                              Atsane  1676   \n",
       "A. Morin                                               Akata  1680   \n",
       "A. Morin                                              Quilla  1704   \n",
       "\n",
       "                            Review\\nDate Cocoa\\nPercent Company\\nLocation  \\\n",
       "Company \\n(Maker-if known)                                                  \n",
       "A. Morin                            2016            63%            France   \n",
       "A. Morin                            2015            70%            France   \n",
       "A. Morin                            2015            70%            France   \n",
       "A. Morin                            2015            70%            France   \n",
       "A. Morin                            2015            70%            France   \n",
       "\n",
       "                            Rating Bean\\nType Broad Bean\\nOrigin  \n",
       "Company \\n(Maker-if known)                                        \n",
       "A. Morin                      3.75                      Sao Tome  \n",
       "A. Morin                      2.75                          Togo  \n",
       "A. Morin                      3.00                          Togo  \n",
       "A. Morin                      3.50                          Togo  \n",
       "A. Morin                      3.50                          Peru  "
>>>>>>> a924d897572cf9689df1170aed82149344bd218b
      ]
     },
     "execution_count": 1,
     "metadata": {},
<<<<<<< HEAD
     "output_type": "display_data"
    }
   ],
   "source": [
    "plt.boxplot(choco[\"Rating\"])\n",
    "plt.show()\n",
    "#    There are 4 outliers in \"Rating\". One exceptionally high and others way below average. \n",
    "#    Omitting these values will redistribute the mean, mode and median.But let's see the one which has the max rating and \n",
    "#    try to find the reason behind it from the data."
=======
     "output_type": "execute_result"
    }
   ],
   "source": [
    "#Reading in the dataset using pandas\n",
    "\n",
    "import numpy as np\n",
    "import pandas as pd\n",
    "import matplotlib.pyplot as plt\n",
    "%matplotlib inline\n",
    "\n",
    "choco = pd.read_csv(\"flavors_of_cacao.csv\",index_col = 0)\n",
    "\n",
    "### The following shows the head of the dataset\n",
    "choco.head()"
>>>>>>> a924d897572cf9689df1170aed82149344bd218b
   ]
  },
  {
   "cell_type": "code",
<<<<<<< HEAD
   "execution_count": 9,
   "metadata": {},
   "outputs": [],
   "source": [
    "# Making a new column \"Cocoa_Percentage\" for visualization purpose.\n",
    "choco[\"Cocoa_Percentage\"] = choco[\"Cocoa\\nPercent\"].str[0:2].astype(int)"
   ]
  },
  {
   "cell_type": "code",
   "execution_count": 12,
   "metadata": {},
   "outputs": [
    {
     "data": {
      "image/png": "iVBORw0KGgoAAAANSUhEUgAAAXoAAAEKCAYAAAAcgp5RAAAABHNCSVQICAgIfAhkiAAAAAlwSFlz\nAAALEgAACxIB0t1+/AAAFGxJREFUeJzt3X+wXOV93/H3B4EhNq6BcKtoEEQ0o8YjPAEcVcaGOE5I\nDDaZiI5drDR2ZQ8TtR3iOm47rshMm0kdpXgykzptSjuMTayOfxA5DkGDHTyKjB03qcHCBowEFMVA\nkUZCih3/Slpc5G//2EfOWtbV7qK7d6WH92tmZ88+5zn7fO+jq889e3bP2VQVkqR+nTLrAiRJ02XQ\nS1LnDHpJ6pxBL0mdM+glqXMGvSR1zqCXpM4Z9JLUOYNekjp36qwLADj33HNrxYoVsy5Dkk4q9913\n319W1dyofidE0K9YsYIdO3bMugxJOqkkeXKcfh66kaTOGfSS1DmDXpI6Z9BLUucMeknqnEEvSZ0z\n6CWpcwa9JHXOoJekzp0QZ8ZKJ7IVGz8+k3GfuOmamYyr/rhHL0mdM+glqXMGvSR1zqCXpM4Z9JLU\nOYNekjpn0EtS5wx6SeqcQS9JnRsr6JOcleQPkjyS5OEkr0xyTpJtSR5r92cP9b8xye4kjya5anrl\nS5JGGXeP/neAu6rqpcDFwMPARmB7Va0EtrfHJFkFrAMuAq4Gbk6yZKELlySNZ2TQJ3kJ8Grg/QBV\n9e2q+hqwFtjcum0Grm3La4HbquqZqnoc2A2sWejCJUnjGeeiZhcCB4HfS3IxcB/wDmBpVe1rffYD\nS9vyecDnhrbf09okTWBWF1MDL6jWm3EO3ZwKvBz4r1V1KfDXtMM0h1VVATXJwEk2JNmRZMfBgwcn\n2VSSNIFxgn4PsKeq7mmP/4BB8D+dZBlAuz/Q1u8Fzh/afnlr+x5VdUtVra6q1XNzc8+1fknSCCOD\nvqr2A08l+dHWdCWwC9gKrG9t64E72vJWYF2S05NcCKwE7l3QqiVJYxv3i0feDnwoyQuALwNvY/BH\nYkuS64EngesAqmpnki0M/hg8C9xQVYcWvHJJ0ljGCvqquh9YfZRVV87TfxOw6TjqkiQtEM+MlaTO\nGfSS1DmDXpI6Z9BLUucMeknqnEEvSZ0z6CWpcwa9JHXOoJekzhn0ktQ5g16SOmfQS1LnDHpJ6pxB\nL0mdM+glqXMGvSR1zqCXpM4Z9JLUOYNekjpn0EtS5wx6SeqcQS9JnTPoJalzYwV9kieSfCnJ/Ul2\ntLZzkmxL8li7P3uo/41Jdid5NMlV0ypekjTaJHv0P1VVl1TV6vZ4I7C9qlYC29tjkqwC1gEXAVcD\nNydZsoA1S5ImcDyHbtYCm9vyZuDaofbbquqZqnoc2A2sOY5xJEnHYdygL+BPktyXZENrW1pV+9ry\nfmBpWz4PeGpo2z2tTZI0A6eO2e+Kqtqb5O8C25I8MryyqipJTTJw+4OxAeCCCy6YZFNJ0gTG2qOv\nqr3t/gBwO4NDMU8nWQbQ7g+07nuB84c2X97ajnzOW6pqdVWtnpube+4/gSTpmEYGfZIXJXnx4WXg\ntcBDwFZgfeu2HrijLW8F1iU5PcmFwErg3oUuXJI0nnEO3SwFbk9yuP+Hq+quJJ8HtiS5HngSuA6g\nqnYm2QLsAp4FbqiqQ1OpXpI00sigr6ovAxcfpf0rwJXzbLMJ2HTc1UmSjptnxkpS5wx6SeqcQS9J\nnTPoJalzBr0kdc6gl6TOGfSS1DmDXpI6Z9BLUucMeknqnEEvSZ0z6CWpcwa9JHXOoJekzhn0ktQ5\ng16SOmfQS1LnDHpJ6pxBL0mdM+glqXMGvSR1zqCXpM4Z9JLUOYNekjo3dtAnWZLki0nubI/PSbIt\nyWPt/uyhvjcm2Z3k0SRXTaNwSdJ4Jtmjfwfw8NDjjcD2qloJbG+PSbIKWAdcBFwN3JxkycKUK0ma\n1FhBn2Q5cA3wvqHmtcDmtrwZuHao/baqeqaqHgd2A2sWplxJ0qTG3aN/L/Au4DtDbUural9b3g8s\nbcvnAU8N9dvT2r5Hkg1JdiTZcfDgwcmqliSNbWTQJ/k54EBV3Tdfn6oqoCYZuKpuqarVVbV6bm5u\nkk0lSRM4dYw+lwM/n+T1wBnA30nyQeDpJMuqal+SZcCB1n8vcP7Q9stbmyRpBkbu0VfVjVW1vKpW\nMHiT9VNV9WZgK7C+dVsP3NGWtwLrkpye5EJgJXDvglcuSRrLOHv087kJ2JLkeuBJ4DqAqtqZZAuw\nC3gWuKGqDh13pZKk52SioK+qTwOfbstfAa6cp98mYNNx1iZJWgCeGStJnTPoJalzBr0kdc6gl6TO\nGfSS1DmDXpI6Z9BLUucMeknqnEEvSZ0z6CWpcwa9JHXOoJekzhn0ktQ5g16SOmfQS1LnDHpJ6pxB\nL0mdM+glqXMGvSR1zqCXpM4Z9JLUOYNekjpn0EtS50YGfZIzktyb5IEkO5P8ems/J8m2JI+1+7OH\ntrkxye4kjya5apo/gCTp2MbZo38G+Omquhi4BLg6yWXARmB7Va0EtrfHJFkFrAMuAq4Gbk6yZBrF\nS5JGGxn0NfCt9vC0ditgLbC5tW8Grm3La4HbquqZqnoc2A2sWdCqJUljG+sYfZIlSe4HDgDbquoe\nYGlV7Wtd9gNL2/J5wFNDm+9pbUc+54YkO5LsOHjw4HP+ASRJxzZW0FfVoaq6BFgOrEnysiPWF4O9\n/LFV1S1VtbqqVs/NzU2yqSRpAhN96qaqvgbczeDY+9NJlgG0+wOt217g/KHNlrc2SdIMjPOpm7kk\nZ7XlHwB+FngE2Aqsb93WA3e05a3AuiSnJ7kQWAncu9CFS5LGc+oYfZYBm9snZ04BtlTVnUn+J7Al\nyfXAk8B1AFW1M8kWYBfwLHBDVR2aTvmSpFFGBn1VPQhcepT2rwBXzrPNJmDTcVcnSTpunhkrSZ0z\n6CWpcwa9JHXOoJekzhn0ktQ5g16SOmfQS1LnDHpJ6tw4Z8ZKM7di48dnXYJ00nKPXpI6Z9BLUucM\neknqnEEvSZ0z6CWpcwa9JHXOoJekzhn0ktQ5g16SOmfQS1LnDHpJ6pxBL0mdM+glqXMGvSR1bmTQ\nJzk/yd1JdiXZmeQdrf2cJNuSPNbuzx7a5sYku5M8muSqaf4AkqRjG2eP/lngX1XVKuAy4IYkq4CN\nwPaqWglsb49p69YBFwFXAzcnWTKN4iVJo40M+qraV1VfaMvfBB4GzgPWAptbt83AtW15LXBbVT1T\nVY8Du4E1C124JGk8Ex2jT7ICuBS4B1haVfvaqv3A0rZ8HvDU0GZ7WtuRz7UhyY4kOw4ePDhh2ZKk\ncY0d9EnOBD4G/EpVfWN4XVUVUJMMXFW3VNXqqlo9Nzc3yaaSpAmMFfRJTmMQ8h+qqj9szU8nWdbW\nLwMOtPa9wPlDmy9vbZKkGRjnUzcB3g88XFW/PbRqK7C+La8H7hhqX5fk9CQXAiuBexeuZEnSJE4d\no8/lwFuALyW5v7X9KnATsCXJ9cCTwHUAVbUzyRZgF4NP7NxQVYcWvHJJ0lhGBn1V/Q8g86y+cp5t\nNgGbjqMuSdIC8cxYSeqcQS9JnTPoJalzBr0kdc6gl6TOGfSS1DmDXpI6Z9BLUucMeknqnEEvSZ0z\n6CWpcwa9JHXOoJekzo1zmWLpu1Zs/PisS5A0IffoJalzBr0kdc6gl6TOGfSS1DmDXpI6Z9BLUucM\neknqnEEvSZ0z6CWpcyODPsmtSQ4keWio7Zwk25I81u7PHlp3Y5LdSR5NctW0CpckjWecPfoPAFcf\n0bYR2F5VK4Ht7TFJVgHrgIvaNjcnWbJg1UqSJjYy6KvqT4GvHtG8FtjcljcD1w6131ZVz1TV48Bu\nYM0C1SpJeg6e6zH6pVW1ry3vB5a25fOAp4b67WltkqQZOe6rV1ZVJalJt0uyAdgAcMEFFxxvGZIW\n0KyuUvrETdfMZNzePdc9+qeTLANo9wda+17g/KF+y1vb96mqW6pqdVWtnpube45lSJJGea5BvxVY\n35bXA3cMta9LcnqSC4GVwL3HV6Ik6XiMPHST5CPAa4Bzk+wBfg24CdiS5HrgSeA6gKramWQLsAt4\nFrihqg5NqXZJ0hhGBn1V/cI8q66cp/8mYNPxFCVJWjieGStJnTPoJalzBr0kdc6gl6TOGfSS1DmD\nXpI6Z9BLUucMeknqnEEvSZ0z6CWpcwa9JHXOoJekzhn0ktQ5g16SOmfQS1LnDHpJ6pxBL0mdG/kN\nUzrxrNj48VmXIOkk4h69JHXOoJekzhn0ktQ5g16SOmfQS1LnpvapmyRXA78DLAHeV1U3TWusWfHT\nL5JOBlPZo0+yBPgvwOuAVcAvJFk1jbEkScc2rUM3a4DdVfXlqvo2cBuwdkpjSZKOYVqHbs4Dnhp6\nvAd4xZTG8hCKpOMyywx54qZrpj7GzM6MTbIB2NAefivJo8fxdOcCf3n8VS0465qMdU2mu7ryngWu\n5HudkPOV9xxXXT88TqdpBf1e4Pyhx8tb23dV1S3ALQsxWJIdVbV6IZ5rIVnXZKxrMtY1medzXdM6\nRv95YGWSC5O8AFgHbJ3SWJKkY5jKHn1VPZvkl4FPMvh45a1VtXMaY0mSjm1qx+ir6hPAJ6b1/EdY\nkENAU2Bdk7GuyVjXZJ63daWqpj2GJGmGvASCJHXupAn6JLcmOZDkoXnWJ8l/SrI7yYNJXn6C1PWa\nJF9Pcn+7/btFqOn8JHcn2ZVkZ5J3HKXPos/XmHXNYr7OSHJvkgdaXb9+lD6z+v0ap7ZFn7M27pIk\nX0xy51HWzWS+xqhrJnPVxn4iyZfauDuOsn56c1ZVJ8UNeDXwcuCheda/HvhjIMBlwD0nSF2vAe5c\n5LlaBry8Lb8Y+F/AqlnP15h1zWK+ApzZlk8D7gEum/V8TVDbos9ZG/dfAh8+2tizmq8x6prJXLWx\nnwDOPcb6qc3ZSbNHX1V/Cnz1GF3WAv+9Bj4HnJVk2QlQ16Krqn1V9YW2/E3gYQZnKw9b9Pkas65F\n1+bgW+3hae125JtXs/r9Gqe2RZdkOXAN8L55usxkvsao60Q2tTk7aYJ+DEe77MLMQ6R5VXsp9sdJ\nLlrMgZOsAC5lsCc4bKbzdYy6YAbz1V7u3w8cALZV1QkzX2PUBos/Z+8F3gV8Z571s5qvUXXB7P4/\nFvAnSe7L4MoAR5ranPUU9CeqLwAXVNWPAf8Z+KPFGjjJmcDHgF+pqm8s1rijjKhrJvNVVYeq6hIG\nZ3GvSfKyxRh3HGPUtqhzluTngANVdd80x5nUmHXN7P8jcEX7d3wdcEOSVy/WwD0F/cjLLsxCVX3j\n8EvvGpxbcFqSc6c9bpLTGITph6rqD4/SZSbzNaquWc3X0PhfA+4Grj5i1cx/v+arbQZzdjnw80me\nYHBl2p9O8sEj+sxivkbWNcvfr6ra2+4PALczuMrvsKnNWU9BvxX4J+2d68uAr1fVvlkXleSHkqQt\nr2Ew51+Z8pgB3g88XFW/PU+3RZ+vceqa0XzNJTmrLf8A8LPAI0d0m8nv1zi1LfacVdWNVbW8qlYw\nuLzJp6rqzUd0W/T5GqeuWfx+tbFelOTFh5eB1wJHflJvanM2s6tXTirJRxi8Y35ukj3ArzF4Y4qq\n+m8MzsJ9PbAb+BvgbSdIXW8E/nmSZ4H/A6yr9hb7FF0OvAX4Uju2C/CrwAVDdc1ivsapaxbztQzY\nnMEX5pwCbKmqO5P8s6G6ZvL7NWZts5iz73OCzNeoumY1V0uB29vfmFOBD1fVXYs1Z54ZK0md6+nQ\njSTpKAx6SeqcQS9JnTPoJalzBr0kdc6g16Jrn2W+LclftNPBP5Hk7y9yDW9NcjCDKwnuSvJLizn+\nUB0rkvzjWYyt5w+DXouqnaxyO/DpqvqRqvpx4EYGnzNebL/fTkl/DfCbScaqIclCnn+yAjDoNVUG\nvRbbTwH/r50gAkBVPVBVn21nBP5WkocyuG73mw73SfJvWtsDSW5qbZck+Vy7QNXtSc5u7b+U5POt\n78eSvPBYBbVT0v8C+OF2BuOtGVwD/otJ1rbnfGuSrUk+BWw/Rk0/kuSu9krls0le2to/kMG1xv88\nyZeTvLENfxPwE+2VxTvbHv5nk3yh3V7Vtj8lyc1JHkmyrb0KemNb9+NJPtPG/GQW4SqROsmMcy1j\nb94W6gb8C+A/zrPuDcA2Bl8ovxT43wzODH0d8OfAC1u/c9r9g8BPtuV/D7y3Lf/g0HP+BvD2o4z1\nVuB32/LfY3BlyHOA3wTe3NrPYnDN/Be1/nuGxp6vpu3Ayrb8Cgan4QN8APgog52rVcDu1v4ahq6P\nDrwQOKMtrwR2tOU3Mjhz8hTgh4C/am2ntTrmWr83AbfO+t/Z24l1O2kugaDnhSuAj1TVIeDpJJ8B\n/gHwk8DvVdXfAFTVV5O8BDirqj7Ttt3MIEgBXpbkNxgE9ZnAJ+cZ701JrgCeAf5pe97XMrgw1r9u\nfc6gXaKBwSWCD3/3wM8cpaYzgVcBH22nugOcPjTeH1XVd4BdxzhMdBrwu0kuAQ4Bh9+7uAL4aNt+\nf5K7W/uPAi8DtrUxlwAzv8aTTiwGvRbbTgZ7otP0AeDaqnogyVsZ7DUfze9X1S8f0RbgDVX16Pc0\nJq8A/nrEuKcAX6vBcf+jeeaIcY7mncDTwMXt+f7viDED7KyqV47op+cxj9FrsX0KOD1DX7yQ5MeS\n/ATwWQZ72UuSzDH4msZ7GRzOedvhY+1JzqmqrwN/1baDwcXSDu/dvxjYl8ElkX9xwvo+Cby9vWlM\nkkvn6Xe0mr4BPJ7kH7W2JLl4xHjfbPUe9hJgX9tzfwuDPXSAPwPe0I7VL+Vv/3g9CswleWUb87Qs\n8pfb6MRn0GtRVVUB/xD4mfbxyp3AfwD2M/g0zoPAAwz+ILyrqvZX1V0MLuG6I4OrXh4+rLIe+K0k\nDwKXMDhOD/BvGXxz1Z/x/ZcbHuXdDA6fPNhqe/c8P8d8Nf0icH2SBxi8elk7YrwHgUPtDd13AjcD\n69v2L+VvX0V8jMF7BLuADzL4Ao2vV9W3GbxCek/b5n4Gh4+k7/LqldJJIsmZVfWtJD/I4JXO5VW1\nf9Z16cTnMXrp5HFnBl9C8gLg3Ya8xuUevSR1zmP0ktQ5g16SOmfQS1LnDHpJ6pxBL0mdM+glqXP/\nH6Q80alD6G9CAAAAAElFTkSuQmCC\n",
      "text/plain": [
       "<matplotlib.figure.Figure at 0x2b602341668>"
      ]
     },
     "metadata": {},
     "output_type": "display_data"
    }
   ],
   "source": [
    "plt.hist(choco[\"Rating\"])\n",
    "plt.xlabel(\"Cocoa Percentage\")\n",
    "plt.show()\n"
   ]
  },
  {
   "cell_type": "code",
   "execution_count": 14,
   "metadata": {},
   "outputs": [
    {
     "data": {
      "image/png": "iVBORw0KGgoAAAANSUhEUgAAAYEAAAEKCAYAAAD0Luk/AAAABHNCSVQICAgIfAhkiAAAAAlwSFlz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\n9AAAAABJRU5ErkJggg==\n",
      "text/plain": [
       "<matplotlib.figure.Figure at 0x2b6023b4d68>"
      ]
     },
     "metadata": {},
     "output_type": "display_data"
    }
   ],
   "source": [
    "plt.hist(choco[\"Cocoa_Percentage\"])\n",
    "plt.xlabel(\"Cocoa Percentage\")\n",
    "plt.show()\n",
    "# There is huge difference in min value and mean value of the cocoa percentage. Thus that may lead to a false interpretation.\n",
    "# Maximum, minumum and mean vlaues can be visualized from the histogram plotted.\n"
   ]
  },
  {
   "cell_type": "code",
   "execution_count": 16,
   "metadata": {},
   "outputs": [
    {
     "data": {
      "image/png": "iVBORw0KGgoAAAANSUhEUgAAAYgAAAEWCAYAAAB8LwAVAAAABHNCSVQICAgIfAhkiAAAAAlwSFlz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\n2QvyAAAAAElFTkSuQmCC\n",
      "text/plain": [
       "<matplotlib.figure.Figure at 0x2b6025be240>"
      ]
     },
     "metadata": {},
     "output_type": "display_data"
    }
   ],
   "source": [
    "plt.scatter(x=choco[\"Rating\"],y=choco[\"Cocoa_Percentage\"])\n",
    "plt.xlabel(\"Ratings\")\n",
    "plt.ylabel(\"Cocoa Percentage\")\n",
    "plt.title(\"Cocoa percentage VS Rating\")\n",
    "plt.show()\n",
    "# No clear inference can be made from this scatter plot.For the same rating there is a difference in the cocoa percentage.\n",
    "# So in calculating the Rating,Cocoa percentage is not the only factor being considered."
   ]
  },
  {
   "cell_type": "code",
   "execution_count": 46,
   "metadata": {},
   "outputs": [
    {
     "data": {
      "image/png": "iVBORw0KGgoAAAANSUhEUgAAAYgAAAEICAYAAABF82P+AAAABHNCSVQICAgIfAhkiAAAAAlwSFlz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\nSeplQEiSehkQkqReBoQkqZcBIUnq9f8B2wtZKLRhibcAAAAASUVORK5CYII=\n",
      "text/plain": [
       "<matplotlib.figure.Figure at 0x2b603ccea58>"
      ]
     },
     "metadata": {},
     "output_type": "display_data"
    }
   ],
   "source": [
    "choco_country = choco.sort_values(\"Cocoa_Percentage\",ascending =False)\n",
    "#x_axis = choco[\"Company\\nLocation\"]\n",
    "# x_axis = choco[\"Company\\nLocation\"]\n",
    "#ind = np.arange(len(x_axis))\n",
    "#plt.xticks(ind,x_axis)\n",
    "#plt.bar (plt.xticks(ind,choco[\"Company\\nLocation\"]),choco_country[\"Cocoa_Percentage\"].)\n",
    "#plt.show()\n",
    "first = choco_country.iloc[0:5,:]\n",
    "x = first[\"Company\\nLocation\"]\n",
    "x1 = np.arange(len(x))\n",
    "y = first[\"Cocoa_Percentage\"]\n",
    "plt.xticks(x1,x)\n",
    "plt.title(\"Countries with Cocoa percent\")\n",
    "plt.ylabel(\"Cocoa Percent\")\n",
    "plt.bar(x1,y)\n",
    "plt.show()\n",
    "\n",
    "# this shows the top three countries with cocoa percent > 90 percent.\n"
=======
   "execution_count": 2,
   "metadata": {
    "collapsed": true
   },
   "outputs": [],
   "source": [
    "#### The following boxplot for ratings shows that most of the ratings are between ---- "
>>>>>>> a924d897572cf9689df1170aed82149344bd218b
   ]
  },
  {
   "cell_type": "code",
<<<<<<< HEAD
   "execution_count": 48,
=======
   "execution_count": 3,
>>>>>>> a924d897572cf9689df1170aed82149344bd218b
   "metadata": {},
   "outputs": [
    {
     "data": {
      "image/png": "iVBORw0KGgoAAAANSUhEUgAAAXcAAAD8CAYAAACMwORRAAAABHNCSVQICAgIfAhkiAAAAAlwSFlz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\niHAHgAQR7gCQIMIdABJEuANAgv4fI34UPuWFmmsAAAAASUVORK5CYII=\n",
      "text/plain": [
<<<<<<< HEAD
       "<matplotlib.figure.Figure at 0x2b603cadb38>"
=======
       "<matplotlib.figure.Figure at 0x10ee68908>"
>>>>>>> a924d897572cf9689df1170aed82149344bd218b
      ]
     },
     "metadata": {},
     "output_type": "display_data"
    }
   ],
   "source": [
    "plt.boxplot(choco[\"Rating\"])\n",
    "plt.show()"
   ]
  },
  {
   "cell_type": "markdown",
   "metadata": {},
   "source": [
    "#### there are 4 outliers in ratings. one exceptionally high and others way below average. omitting these values will redistribute the mean, mode and median. If we have to find the best rating for eating and giving reviews then we already have obtained it. after implementing choco.describe() the summary was known.\n",
    "\n",
    "#### I want to see the trend between cocoa percent and rating but the error is showing , so will leave for time being.Because the percent sign is causing trouble "
   ]
  },
  {
   "cell_type": "code",
   "execution_count": 4,
   "metadata": {
    "collapsed": true
   },
   "outputs": [],
   "source": [
    "#### The following histogram shows the distributions of ratings"
   ]
  },
  {
   "cell_type": "code",
   "execution_count": 5,
   "metadata": {},
   "outputs": [
    {
     "data": {
      "image/png": "iVBORw0KGgoAAAANSUhEUgAAASkAAAE/CAYAAAAaFjUEAAAABHNCSVQICAgIfAhkiAAAAAlwSFlz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\n",
      "text/plain": [
<<<<<<< HEAD
       "<matplotlib.figure.Figure at 0x2b6040fc1d0>"
=======
       "<matplotlib.figure.Figure at 0x10e0cc978>"
>>>>>>> a924d897572cf9689df1170aed82149344bd218b
      ]
     },
     "metadata": {},
     "output_type": "display_data"
    }
   ],
   "source": [
<<<<<<< HEAD
    "\n",
=======
>>>>>>> a924d897572cf9689df1170aed82149344bd218b
    "plt.figure(figsize=(10,5))\n",
    "plt.subplot(1,2,1)\n",
    "plt.hist(choco[\"Rating\"])\n",
    "plt.title(\"RATING\")\n",
    "plt.show()"
   ]
  },
  {
   "cell_type": "code",
   "execution_count": 6,
   "metadata": {
    "collapsed": true
   },
   "outputs": [],
   "source": [
    "### The following histogram shows the distribution of the years in which these ratings were recorded"
   ]
  },
  {
   "cell_type": "code",
   "execution_count": 7,
   "metadata": {},
   "outputs": [
    {
     "data": {
      "image/png": "iVBORw0KGgoAAAANSUhEUgAAASkAAAFNCAYAAABc/JnOAAAABHNCSVQICAgIfAhkiAAAAAlwSFlz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\nRK5CYII=\n",
      "text/plain": [
       "<matplotlib.figure.Figure at 0x1127d9198>"
      ]
     },
     "metadata": {},
     "output_type": "display_data"
    }
   ],
   "source": [
    "plt.figure(figsize=(10,5))\n",
    "plt.subplot(1,2,2)\n",
    "plt.hist(choco[\"Review\\nDate\"])\n",
    "plt.xlabel(\"Year\")\n",
    "plt.title(\"YEAR\")\n",
    "plt.show()"
<<<<<<< HEAD
   ]
=======
   ]
  },
  {
   "cell_type": "markdown",
   "metadata": {
    "collapsed": true
   },
   "source": [
    "#### Add a barplot for number of ratings per company"
   ]
  },
  {
   "cell_type": "code",
   "execution_count": 8,
   "metadata": {
    "collapsed": true
   },
   "outputs": [],
   "source": [
    "#### Add a barplot for specific bean origin"
   ]
  },
  {
   "cell_type": "code",
   "execution_count": null,
   "metadata": {
    "collapsed": true
   },
   "outputs": [],
   "source": [
    "#### Add a scatter plot of cocoa percent and rating"
   ]
  },
  {
   "cell_type": "markdown",
   "metadata": {},
   "source": []
>>>>>>> a924d897572cf9689df1170aed82149344bd218b
  }
 ],
 "metadata": {
  "kernelspec": {
   "display_name": "Python 3",
   "language": "python",
   "name": "python3"
  },
  "language_info": {
   "codemirror_mode": {
    "name": "ipython",
    "version": 3
   },
   "file_extension": ".py",
   "mimetype": "text/x-python",
   "name": "python",
   "nbconvert_exporter": "python",
   "pygments_lexer": "ipython3",
   "version": "3.6.3"
  }
 },
 "nbformat": 4,
 "nbformat_minor": 2
}
