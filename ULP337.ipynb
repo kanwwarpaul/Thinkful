{
 "cells": [
  {
   "cell_type": "code",
   "execution_count": 15,
   "metadata": {},
   "outputs": [],
   "source": [
    "#HEllO"
   ]
  },
  {
   "cell_type": "code",
   "execution_count": 2,
   "metadata": {
    "collapsed": true
   },
   "outputs": [],
   "source": [
    "import pandas as pd\n",
    "import numpy as np\n",
    "from scipy.stats import ttest_ind\n",
    "import xml.etree.ElementTree as ET\n",
    "import matplotlib.pyplot as plt\n",
    "%matplotlib inline"
   ]
  },
  {
   "cell_type": "code",
   "execution_count": 3,
   "metadata": {
    "collapsed": true
   },
   "outputs": [],
   "source": [
    "np.random.seed(1221)"
   ]
  },
  {
   "cell_type": "code",
   "execution_count": 4,
   "metadata": {
    "collapsed": true
   },
   "outputs": [],
   "source": [
    "pop1 = np.random.binomial(10,0.2,10000)\n",
    "pop2 = np.random.binomial(10,0.5,10000)\n"
   ]
  },
  {
   "cell_type": "code",
   "execution_count": 5,
   "metadata": {},
   "outputs": [
    {
     "name": "stdout",
     "output_type": "stream",
     "text": [
      "Mean of pop1 is: 1.9885\n",
      "Mean of pop2 is: 5.0046\n",
      "Standard Deviation of pop1 is: 1.28022175813\n",
      "Standard Deviation of pop2 is: 1.566581897\n"
     ]
    }
   ],
   "source": [
    "print(\"Mean of pop1 is: \" + str(pop1.mean()))\n",
    "print(\"Mean of pop2 is: \" + str(pop2.mean()))\n",
    "print(\"Standard Deviation of pop1 is: \" + str(pop1.std()))\n",
    "print(\"Standard Deviation of pop2 is: \" + str(pop2.std()))"
   ]
  },
  {
   "cell_type": "code",
   "execution_count": 6,
   "metadata": {
    "collapsed": true
   },
   "outputs": [],
   "source": [
    "sample1 = np.random.choice(pop1,100)\n",
    "sample2 = np.random.choice(pop2,100)"
   ]
  },
  {
   "cell_type": "code",
   "execution_count": 7,
   "metadata": {},
   "outputs": [
    {
     "name": "stdout",
     "output_type": "stream",
     "text": [
      "Mean of Sample1 is: 2.07\n",
      "Mean of Sample2 is: 5.13\n",
      "Standard Deviation of Sample1 is: 1.2186467905\n",
      "Standard Deviation of Sample2 is: 1.75872112627\n"
     ]
    }
   ],
   "source": [
    "print(\"Mean of Sample1 is: \" + str(sample1.mean()))\n",
    "print(\"Mean of Sample2 is: \" + str(sample2.mean()))\n",
    "print(\"Standard Deviation of Sample1 is: \" + str(sample1.std()))\n",
    "print(\"Standard Deviation of Sample2 is: \" + str(sample2.std()))"
   ]
  },
  {
   "cell_type": "code",
   "execution_count": 8,
   "metadata": {
    "collapsed": true
   },
   "outputs": [],
   "source": [
    "# the mean and std of the sample(1000) will approx. match the population mean \n",
    "# and std (1000) and thus the results will be almost simliar.\n",
    "# But it also depends whether the chosen samples are replacebale or not"
   ]
  },
  {
   "cell_type": "code",
   "execution_count": 10,
   "metadata": {},
   "outputs": [
    {
     "name": "stdout",
     "output_type": "stream",
     "text": [
      "Mean of Sample3 is: 2.028\n",
      "Mean of Sample4 is: 4.994\n",
      "Standard Deviation of Sample3 is: 1.27405494387\n",
      "Standard Deviation of Sample4 is: 1.58869883867\n"
     ]
    }
   ],
   "source": [
    "sample3 = np.random.choice(pop1,1000)\n",
    "sample4 = np.random.choice(pop2,1000)\n",
    "print(\"Mean of Sample3 is: \" + str(sample3.mean()))\n",
    "print(\"Mean of Sample4 is: \" + str(sample4.mean()))\n",
    "print(\"Standard Deviation of Sample3 is: \" + str(sample3.std()))\n",
    "print(\"Standard Deviation of Sample4 is: \" + str(sample4.std()))"
   ]
  },
  {
   "cell_type": "code",
   "execution_count": 11,
   "metadata": {},
   "outputs": [
    {
     "data": {
      "image/png": "[encoded data removed]",
      "text/plain": [
       "<matplotlib.figure.Figure at 0x240161f99b0>"
      ]
     },
     "metadata": {},
     "output_type": "display_data"
    }
   ],
   "source": [
    "plt.hist(sample3, alpha = 0.5, label=\"sample1\")\n",
    "plt.hist(sample4, alpha = 0.5, label=\"sample2\")\n",
    "plt.legend(loc=\"upper right\")\n",
    "plt.show()"
   ]
  },
  {
   "cell_type": "code",
   "execution_count": 12,
   "metadata": {},
   "outputs": [
    {
     "name": "stdout",
     "output_type": "stream",
     "text": [
      "Mean of Sample5 is: 1.95\n",
      "Mean of Sample6 is: 5.15\n",
      "Standard Deviation of Sample5 is: 1.2835497653\n",
      "Standard Deviation of Sample6 is: 1.58981130956\n"
     ]
    }
   ],
   "source": [
    "sample5 = np.random.choice(pop1,20)\n",
    "sample6 = np.random.choice(pop2,20)\n",
    "print(\"Mean of Sample5 is: \" + str(sample5.mean()))\n",
    "print(\"Mean of Sample6 is: \" + str(sample6.mean()))\n",
    "print(\"Standard Deviation of Sample5 is: \" + str(sample5.std()))\n",
    "print(\"Standard Deviation of Sample6 is: \" + str(sample6.std()))"
   ]
  },
  {
   "cell_type": "code",
   "execution_count": 13,
   "metadata": {},
   "outputs": [
    {
     "name": "stdout",
     "output_type": "stream",
     "text": [
      "Ttest_indResult(statistic=-10.144918334792704, pvalue=9.8579089645472148e-20)\n"
     ]
    }
   ],
   "source": [
    "pop1_new = np.random.binomial(10,0.3,10000)\n",
    "sample7 = np.random.choice(pop1_new,100)\n",
    "sample8 = np.random.choice(pop2,100)\n",
    "result1 = ttest_ind(sample7,sample8,equal_var= False)\n",
    "print(result1)"
   ]
  },
  {
   "cell_type": "code",
   "execution_count": 14,
   "metadata": {},
   "outputs": [
    {
     "name": "stdout",
     "output_type": "stream",
     "text": [
      "Ttest_indResult(statistic=-5.818009560947333, pvalue=2.3667703290374894e-08)\n"
     ]
    }
   ],
   "source": [
    "pop1_new_new = np.random.binomial(10,0.4,10000)\n",
    "sample9 = np.random.choice(pop1_new_new,100)\n",
    "sample10 = np.random.choice(pop2,100)\n",
    "result2 = ttest_ind(sample9,sample10,equal_var= False)\n",
    "print(result2)"
   ]
  },
  {
   "cell_type": "code",
   "execution_count": null,
   "metadata": {
    "collapsed": true
   },
   "outputs": [],
   "source": [
    "#CLT depends on sample size."
   ]
  }
 ],
 "metadata": {
  "kernelspec": {
   "display_name": "Python 3",
   "language": "python",
   "name": "python3"
  },
  "language_info": {
   "codemirror_mode": {
    "name": "ipython",
    "version": 3
   },
   "file_extension": ".py",
   "mimetype": "text/x-python",
   "name": "python",
   "nbconvert_exporter": "python",
   "pygments_lexer": "ipython3",
   "version": "3.6.1"
  }
 },
 "nbformat": 4,
 "nbformat_minor": 2
}
